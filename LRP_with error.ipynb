{
 "cells": [
  {
   "cell_type": "code",
   "execution_count": 5,
   "metadata": {},
   "outputs": [],
   "source": [
    "import tensorflow as tf\n",
    "import matplotlib.pyplot as plt\n",
    "import seaborn as sns\n",
    "\n",
    "import numpy as np\n",
    "\n",
    "import keras\n",
    "from keras.models import Sequential\n",
    "from keras.layers import Dense, Conv2D, Flatten , Dropout , BatchNormalization, MaxPooling2D, GlobalAveragePooling2D\n",
    "from tensorflow.keras.preprocessing.image import ImageDataGenerator\n",
    "from keras.callbacks import Callback, ModelCheckpoint, CSVLogger\n",
    "\n",
    "import tensorflow as tf\n",
    "\n",
    "import pickle\n",
    "\n",
    "from sklearn.metrics import classification_report,confusion_matrix"
   ]
  },
  {
   "cell_type": "code",
   "execution_count": 6,
   "metadata": {},
   "outputs": [],
   "source": [
    "datagen = ImageDataGenerator(rescale = 1./255)"
   ]
  },
  {
   "cell_type": "code",
   "execution_count": 7,
   "metadata": {},
   "outputs": [
    {
     "name": "stdout",
     "output_type": "stream",
     "text": [
      "Found 3816 images belonging to 2 classes.\n",
      "Found 1908 images belonging to 2 classes.\n",
      "Found 1908 images belonging to 2 classes.\n"
     ]
    }
   ],
   "source": [
    "train = datagen.flow_from_directory('/Users/faizahkureshi/Desktop/Capstone Project/DataSet 2/train', target_size=(224, 224), class_mode='binary', batch_size=64)\n",
    "# load and iterate validation dataset\n",
    "val = datagen.flow_from_directory('/Users/faizahkureshi/Desktop/Capstone Project/DataSet 2/val', target_size=(224, 224), class_mode='binary', batch_size=64)\n",
    "# load and iterate test dataset\n",
    "test = datagen.flow_from_directory('/Users/faizahkureshi/Desktop/Capstone Project/DataSet 2/test', target_size=(224, 224), class_mode='binary', batch_size=64)"
   ]
  },
  {
   "cell_type": "code",
   "execution_count": 8,
   "metadata": {},
   "outputs": [],
   "source": [
    "imgs, labels = next(train)"
   ]
  },
  {
   "cell_type": "code",
   "execution_count": 9,
   "metadata": {},
   "outputs": [
    {
     "data": {
      "text/plain": [
       "(64, 224, 224, 3)"
      ]
     },
     "execution_count": 9,
     "metadata": {},
     "output_type": "execute_result"
    }
   ],
   "source": [
    "imgs.shape"
   ]
  },
  {
   "cell_type": "code",
   "execution_count": 10,
   "metadata": {},
   "outputs": [
    {
     "data": {
      "text/plain": [
       "{'Benign': 0, 'Malignant': 1}"
      ]
     },
     "execution_count": 10,
     "metadata": {},
     "output_type": "execute_result"
    }
   ],
   "source": [
    "train.class_indices"
   ]
  },
  {
   "cell_type": "code",
   "execution_count": 11,
   "metadata": {},
   "outputs": [
    {
     "name": "stdout",
     "output_type": "stream",
     "text": [
      "1.0\n"
     ]
    },
    {
     "data": {
      "image/png": "[encoded data removed]",
      "text/plain": [
       "<Figure size 640x480 with 1 Axes>"
      ]
     },
     "metadata": {},
     "output_type": "display_data"
    }
   ],
   "source": [
    "plt.imshow(imgs[0])\n",
    "print(labels[0])"
   ]
  },
  {
   "cell_type": "code",
   "execution_count": 85,
   "metadata": {},
   "outputs": [],
   "source": [
    "model = Sequential()\n",
    "model.add(Conv2D(32, (3, 3), input_shape=(224,224,3), activation='relu'))\n",
    "model.add(MaxPooling2D(pool_size=(2, 2)))\n",
    "\n",
    "model.add(Conv2D(32, (3, 3), activation='relu'))\n",
    "model.add(MaxPooling2D(pool_size=(2, 2)))\n",
    "\n",
    "model.add(Conv2D(64, (3, 3), activation='relu'))\n",
    "model.add(MaxPooling2D(pool_size=(2, 2)))\n",
    "\n",
    "model.add(Flatten())\n",
    "model.add(Dense(64, activation='relu'))\n",
    "model.add(Dropout(0.5))\n",
    "model.add(Dense(1, activation='sigmoid'))\n",
    "\n",
    "model.compile(loss='binary_crossentropy',\n",
    "              optimizer='adam',\n",
    "              metrics=['accuracy'])"
   ]
  },
  {
   "cell_type": "code",
   "execution_count": 86,
   "metadata": {},
   "outputs": [
    {
     "data": {
      "text/html": [
       "<pre style=\"white-space:pre;overflow-x:auto;line-height:normal;font-family:Menlo,'DejaVu Sans Mono',consolas,'Courier New',monospace\"><span style=\"font-weight: bold\">Model: \"sequential_3\"</span>\n",
       "</pre>\n"
      ],
      "text/plain": [
       "\u001b[1mModel: \"sequential_3\"\u001b[0m\n"
      ]
     },
     "metadata": {},
     "output_type": "display_data"
    },
    {
     "data": {
      "text/html": [
       "<pre style=\"white-space:pre;overflow-x:auto;line-height:normal;font-family:Menlo,'DejaVu Sans Mono',consolas,'Courier New',monospace\">┏━━━━━━━━━━━━━━━━━━━━━━━━━━━━━━━━━┳━━━━━━━━━━━━━━━━━━━━━━━━┳━━━━━━━━━━━━━━━┓\n",
       "┃<span style=\"font-weight: bold\"> Layer (type)                    </span>┃<span style=\"font-weight: bold\"> Output Shape           </span>┃<span style=\"font-weight: bold\">       Param # </span>┃\n",
       "┡━━━━━━━━━━━━━━━━━━━━━━━━━━━━━━━━━╇━━━━━━━━━━━━━━━━━━━━━━━━╇━━━━━━━━━━━━━━━┩\n",
       "│ conv2d_9 (<span style=\"color: #0087ff; text-decoration-color: #0087ff\">Conv2D</span>)               │ (<span style=\"color: #00d7ff; text-decoration-color: #00d7ff\">None</span>, <span style=\"color: #00af00; text-decoration-color: #00af00\">222</span>, <span style=\"color: #00af00; text-decoration-color: #00af00\">222</span>, <span style=\"color: #00af00; text-decoration-color: #00af00\">32</span>)   │           <span style=\"color: #00af00; text-decoration-color: #00af00\">896</span> │\n",
       "├─────────────────────────────────┼────────────────────────┼───────────────┤\n",
       "│ max_pooling2d_9 (<span style=\"color: #0087ff; text-decoration-color: #0087ff\">MaxPooling2D</span>)  │ (<span style=\"color: #00d7ff; text-decoration-color: #00d7ff\">None</span>, <span style=\"color: #00af00; text-decoration-color: #00af00\">111</span>, <span style=\"color: #00af00; text-decoration-color: #00af00\">111</span>, <span style=\"color: #00af00; text-decoration-color: #00af00\">32</span>)   │             <span style=\"color: #00af00; text-decoration-color: #00af00\">0</span> │\n",
       "├─────────────────────────────────┼────────────────────────┼───────────────┤\n",
       "│ conv2d_10 (<span style=\"color: #0087ff; text-decoration-color: #0087ff\">Conv2D</span>)              │ (<span style=\"color: #00d7ff; text-decoration-color: #00d7ff\">None</span>, <span style=\"color: #00af00; text-decoration-color: #00af00\">109</span>, <span style=\"color: #00af00; text-decoration-color: #00af00\">109</span>, <span style=\"color: #00af00; text-decoration-color: #00af00\">32</span>)   │         <span style=\"color: #00af00; text-decoration-color: #00af00\">9,248</span> │\n",
       "├─────────────────────────────────┼────────────────────────┼───────────────┤\n",
       "│ max_pooling2d_10 (<span style=\"color: #0087ff; text-decoration-color: #0087ff\">MaxPooling2D</span>) │ (<span style=\"color: #00d7ff; text-decoration-color: #00d7ff\">None</span>, <span style=\"color: #00af00; text-decoration-color: #00af00\">54</span>, <span style=\"color: #00af00; text-decoration-color: #00af00\">54</span>, <span style=\"color: #00af00; text-decoration-color: #00af00\">32</span>)     │             <span style=\"color: #00af00; text-decoration-color: #00af00\">0</span> │\n",
       "├─────────────────────────────────┼────────────────────────┼───────────────┤\n",
       "│ conv2d_11 (<span style=\"color: #0087ff; text-decoration-color: #0087ff\">Conv2D</span>)              │ (<span style=\"color: #00d7ff; text-decoration-color: #00d7ff\">None</span>, <span style=\"color: #00af00; text-decoration-color: #00af00\">52</span>, <span style=\"color: #00af00; text-decoration-color: #00af00\">52</span>, <span style=\"color: #00af00; text-decoration-color: #00af00\">64</span>)     │        <span style=\"color: #00af00; text-decoration-color: #00af00\">18,496</span> │\n",
       "├─────────────────────────────────┼────────────────────────┼───────────────┤\n",
       "│ max_pooling2d_11 (<span style=\"color: #0087ff; text-decoration-color: #0087ff\">MaxPooling2D</span>) │ (<span style=\"color: #00d7ff; text-decoration-color: #00d7ff\">None</span>, <span style=\"color: #00af00; text-decoration-color: #00af00\">26</span>, <span style=\"color: #00af00; text-decoration-color: #00af00\">26</span>, <span style=\"color: #00af00; text-decoration-color: #00af00\">64</span>)     │             <span style=\"color: #00af00; text-decoration-color: #00af00\">0</span> │\n",
       "├─────────────────────────────────┼────────────────────────┼───────────────┤\n",
       "│ flatten_3 (<span style=\"color: #0087ff; text-decoration-color: #0087ff\">Flatten</span>)             │ (<span style=\"color: #00d7ff; text-decoration-color: #00d7ff\">None</span>, <span style=\"color: #00af00; text-decoration-color: #00af00\">43264</span>)          │             <span style=\"color: #00af00; text-decoration-color: #00af00\">0</span> │\n",
       "├─────────────────────────────────┼────────────────────────┼───────────────┤\n",
       "│ dense_6 (<span style=\"color: #0087ff; text-decoration-color: #0087ff\">Dense</span>)                 │ (<span style=\"color: #00d7ff; text-decoration-color: #00d7ff\">None</span>, <span style=\"color: #00af00; text-decoration-color: #00af00\">64</span>)             │     <span style=\"color: #00af00; text-decoration-color: #00af00\">2,768,960</span> │\n",
       "├─────────────────────────────────┼────────────────────────┼───────────────┤\n",
       "│ dropout_3 (<span style=\"color: #0087ff; text-decoration-color: #0087ff\">Dropout</span>)             │ (<span style=\"color: #00d7ff; text-decoration-color: #00d7ff\">None</span>, <span style=\"color: #00af00; text-decoration-color: #00af00\">64</span>)             │             <span style=\"color: #00af00; text-decoration-color: #00af00\">0</span> │\n",
       "├─────────────────────────────────┼────────────────────────┼───────────────┤\n",
       "│ dense_7 (<span style=\"color: #0087ff; text-decoration-color: #0087ff\">Dense</span>)                 │ (<span style=\"color: #00d7ff; text-decoration-color: #00d7ff\">None</span>, <span style=\"color: #00af00; text-decoration-color: #00af00\">1</span>)              │            <span style=\"color: #00af00; text-decoration-color: #00af00\">65</span> │\n",
       "└─────────────────────────────────┴────────────────────────┴───────────────┘\n",
       "</pre>\n"
      ],
      "text/plain": [
       "┏━━━━━━━━━━━━━━━━━━━━━━━━━━━━━━━━━┳━━━━━━━━━━━━━━━━━━━━━━━━┳━━━━━━━━━━━━━━━┓\n",
       "┃\u001b[1m \u001b[0m\u001b[1mLayer (type)                   \u001b[0m\u001b[1m \u001b[0m┃\u001b[1m \u001b[0m\u001b[1mOutput Shape          \u001b[0m\u001b[1m \u001b[0m┃\u001b[1m \u001b[0m\u001b[1m      Param #\u001b[0m\u001b[1m \u001b[0m┃\n",
       "┡━━━━━━━━━━━━━━━━━━━━━━━━━━━━━━━━━╇━━━━━━━━━━━━━━━━━━━━━━━━╇━━━━━━━━━━━━━━━┩\n",
       "│ conv2d_9 (\u001b[38;5;33mConv2D\u001b[0m)               │ (\u001b[38;5;45mNone\u001b[0m, \u001b[38;5;34m222\u001b[0m, \u001b[38;5;34m222\u001b[0m, \u001b[38;5;34m32\u001b[0m)   │           \u001b[38;5;34m896\u001b[0m │\n",
       "├─────────────────────────────────┼────────────────────────┼───────────────┤\n",
       "│ max_pooling2d_9 (\u001b[38;5;33mMaxPooling2D\u001b[0m)  │ (\u001b[38;5;45mNone\u001b[0m, \u001b[38;5;34m111\u001b[0m, \u001b[38;5;34m111\u001b[0m, \u001b[38;5;34m32\u001b[0m)   │             \u001b[38;5;34m0\u001b[0m │\n",
       "├─────────────────────────────────┼────────────────────────┼───────────────┤\n",
       "│ conv2d_10 (\u001b[38;5;33mConv2D\u001b[0m)              │ (\u001b[38;5;45mNone\u001b[0m, \u001b[38;5;34m109\u001b[0m, \u001b[38;5;34m109\u001b[0m, \u001b[38;5;34m32\u001b[0m)   │         \u001b[38;5;34m9,248\u001b[0m │\n",
       "├─────────────────────────────────┼────────────────────────┼───────────────┤\n",
       "│ max_pooling2d_10 (\u001b[38;5;33mMaxPooling2D\u001b[0m) │ (\u001b[38;5;45mNone\u001b[0m, \u001b[38;5;34m54\u001b[0m, \u001b[38;5;34m54\u001b[0m, \u001b[38;5;34m32\u001b[0m)     │             \u001b[38;5;34m0\u001b[0m │\n",
       "├─────────────────────────────────┼────────────────────────┼───────────────┤\n",
       "│ conv2d_11 (\u001b[38;5;33mConv2D\u001b[0m)              │ (\u001b[38;5;45mNone\u001b[0m, \u001b[38;5;34m52\u001b[0m, \u001b[38;5;34m52\u001b[0m, \u001b[38;5;34m64\u001b[0m)     │        \u001b[38;5;34m18,496\u001b[0m │\n",
       "├─────────────────────────────────┼────────────────────────┼───────────────┤\n",
       "│ max_pooling2d_11 (\u001b[38;5;33mMaxPooling2D\u001b[0m) │ (\u001b[38;5;45mNone\u001b[0m, \u001b[38;5;34m26\u001b[0m, \u001b[38;5;34m26\u001b[0m, \u001b[38;5;34m64\u001b[0m)     │             \u001b[38;5;34m0\u001b[0m │\n",
       "├─────────────────────────────────┼────────────────────────┼───────────────┤\n",
       "│ flatten_3 (\u001b[38;5;33mFlatten\u001b[0m)             │ (\u001b[38;5;45mNone\u001b[0m, \u001b[38;5;34m43264\u001b[0m)          │             \u001b[38;5;34m0\u001b[0m │\n",
       "├─────────────────────────────────┼────────────────────────┼───────────────┤\n",
       "│ dense_6 (\u001b[38;5;33mDense\u001b[0m)                 │ (\u001b[38;5;45mNone\u001b[0m, \u001b[38;5;34m64\u001b[0m)             │     \u001b[38;5;34m2,768,960\u001b[0m │\n",
       "├─────────────────────────────────┼────────────────────────┼───────────────┤\n",
       "│ dropout_3 (\u001b[38;5;33mDropout\u001b[0m)             │ (\u001b[38;5;45mNone\u001b[0m, \u001b[38;5;34m64\u001b[0m)             │             \u001b[38;5;34m0\u001b[0m │\n",
       "├─────────────────────────────────┼────────────────────────┼───────────────┤\n",
       "│ dense_7 (\u001b[38;5;33mDense\u001b[0m)                 │ (\u001b[38;5;45mNone\u001b[0m, \u001b[38;5;34m1\u001b[0m)              │            \u001b[38;5;34m65\u001b[0m │\n",
       "└─────────────────────────────────┴────────────────────────┴───────────────┘\n"
      ]
     },
     "metadata": {},
     "output_type": "display_data"
    },
    {
     "data": {
      "text/html": [
       "<pre style=\"white-space:pre;overflow-x:auto;line-height:normal;font-family:Menlo,'DejaVu Sans Mono',consolas,'Courier New',monospace\"><span style=\"font-weight: bold\"> Total params: </span><span style=\"color: #00af00; text-decoration-color: #00af00\">2,797,665</span> (10.67 MB)\n",
       "</pre>\n"
      ],
      "text/plain": [
       "\u001b[1m Total params: \u001b[0m\u001b[38;5;34m2,797,665\u001b[0m (10.67 MB)\n"
      ]
     },
     "metadata": {},
     "output_type": "display_data"
    },
    {
     "data": {
      "text/html": [
       "<pre style=\"white-space:pre;overflow-x:auto;line-height:normal;font-family:Menlo,'DejaVu Sans Mono',consolas,'Courier New',monospace\"><span style=\"font-weight: bold\"> Trainable params: </span><span style=\"color: #00af00; text-decoration-color: #00af00\">2,797,665</span> (10.67 MB)\n",
       "</pre>\n"
      ],
      "text/plain": [
       "\u001b[1m Trainable params: \u001b[0m\u001b[38;5;34m2,797,665\u001b[0m (10.67 MB)\n"
      ]
     },
     "metadata": {},
     "output_type": "display_data"
    },
    {
     "data": {
      "text/html": [
       "<pre style=\"white-space:pre;overflow-x:auto;line-height:normal;font-family:Menlo,'DejaVu Sans Mono',consolas,'Courier New',monospace\"><span style=\"font-weight: bold\"> Non-trainable params: </span><span style=\"color: #00af00; text-decoration-color: #00af00\">0</span> (0.00 B)\n",
       "</pre>\n"
      ],
      "text/plain": [
       "\u001b[1m Non-trainable params: \u001b[0m\u001b[38;5;34m0\u001b[0m (0.00 B)\n"
      ]
     },
     "metadata": {},
     "output_type": "display_data"
    }
   ],
   "source": [
    "\n",
    "model.summary()"
   ]
  },
  {
   "cell_type": "code",
   "execution_count": 87,
   "metadata": {},
   "outputs": [],
   "source": [
    "STEP_SIZE_TRAIN = train.n//train.batch_size\n",
    "STEP_SIZE_VAL = val.n//val.batch_size"
   ]
  },
  {
   "cell_type": "code",
   "execution_count": 88,
   "metadata": {},
   "outputs": [],
   "source": [
    "csv_logger = CSVLogger('/Users/faizahkureshi/Desktop/Capstone Project/training.log', separator=',', append=False)"
   ]
  },
  {
   "cell_type": "code",
   "execution_count": 89,
   "metadata": {},
   "outputs": [
    {
     "name": "stdout",
     "output_type": "stream",
     "text": [
      "Epoch 1/5\n",
      "\u001b[1m59/59\u001b[0m \u001b[32m━━━━━━━━━━━━━━━━━━━━\u001b[0m\u001b[37m\u001b[0m \u001b[1m50s\u001b[0m 833ms/step - accuracy: 0.6557 - loss: 0.6635 - val_accuracy: 0.6708 - val_loss: 0.6322\n",
      "Epoch 2/5\n",
      "\u001b[1m59/59\u001b[0m \u001b[32m━━━━━━━━━━━━━━━━━━━━\u001b[0m\u001b[37m\u001b[0m \u001b[1m1s\u001b[0m 3ms/step - accuracy: 0.7031 - loss: 0.3051 - val_accuracy: 0.6346 - val_loss: 0.3271\n",
      "Epoch 3/5\n"
     ]
    },
    {
     "name": "stderr",
     "output_type": "stream",
     "text": [
      "2024-03-23 13:54:46.501210: W tensorflow/core/framework/local_rendezvous.cc:404] Local rendezvous is aborting with status: OUT_OF_RANGE: End of sequence\n",
      "\t [[{{node IteratorGetNext}}]]\n",
      "/Users/faizahkureshi/anaconda3/envs/myenv/lib/python3.9/contextlib.py:137: UserWarning: Your input ran out of data; interrupting training. Make sure that your dataset or generator can generate at least `steps_per_epoch * epochs` batches. You may need to use the `.repeat()` function when building your dataset.\n",
      "  self.gen.throw(typ, value, traceback)\n",
      "2024-03-23 13:54:46.657993: W tensorflow/core/framework/local_rendezvous.cc:404] Local rendezvous is aborting with status: OUT_OF_RANGE: End of sequence\n",
      "\t [[{{node IteratorGetNext}}]]\n"
     ]
    },
    {
     "name": "stdout",
     "output_type": "stream",
     "text": [
      "\u001b[1m59/59\u001b[0m \u001b[32m━━━━━━━━━━━━━━━━━━━━\u001b[0m\u001b[37m\u001b[0m \u001b[1m46s\u001b[0m 766ms/step - accuracy: 0.6752 - loss: 0.6313 - val_accuracy: 0.6686 - val_loss: 0.6308\n",
      "Epoch 4/5\n",
      "\u001b[1m59/59\u001b[0m \u001b[32m━━━━━━━━━━━━━━━━━━━━\u001b[0m\u001b[37m\u001b[0m \u001b[1m1s\u001b[0m 3ms/step - accuracy: 0.6406 - loss: 0.3337 - val_accuracy: 0.7115 - val_loss: 0.3045\n",
      "Epoch 5/5\n"
     ]
    },
    {
     "name": "stderr",
     "output_type": "stream",
     "text": [
      "2024-03-23 13:55:32.978196: W tensorflow/core/framework/local_rendezvous.cc:404] Local rendezvous is aborting with status: OUT_OF_RANGE: End of sequence\n",
      "\t [[{{node IteratorGetNext}}]]\n",
      "2024-03-23 13:55:33.123640: W tensorflow/core/framework/local_rendezvous.cc:404] Local rendezvous is aborting with status: OUT_OF_RANGE: End of sequence\n",
      "\t [[{{node IteratorGetNext}}]]\n"
     ]
    },
    {
     "name": "stdout",
     "output_type": "stream",
     "text": [
      "\u001b[1m59/59\u001b[0m \u001b[32m━━━━━━━━━━━━━━━━━━━━\u001b[0m\u001b[37m\u001b[0m \u001b[1m45s\u001b[0m 760ms/step - accuracy: 0.6694 - loss: 0.6225 - val_accuracy: 0.6692 - val_loss: 0.6180\n"
     ]
    },
    {
     "name": "stderr",
     "output_type": "stream",
     "text": [
      "WARNING:absl:You are saving your model as an HDF5 file via `model.save()` or `keras.saving.save_model(model)`. This file format is considered legacy. We recommend using instead the native Keras format, e.g. `model.save('my_model.keras')` or `keras.saving.save_model(model, 'my_model.keras')`. \n"
     ]
    }
   ],
   "source": [
    "history = model.fit(train, \n",
    "                    steps_per_epoch=STEP_SIZE_TRAIN, \n",
    "                    validation_data=test,\n",
    "                    validation_steps=STEP_SIZE_VAL,\n",
    "                    epochs=5,\n",
    "                    callbacks=[csv_logger]) \n",
    "model.save('/Users/faizahkureshi/Desktop/Capstone Project/first_model.h5')"
   ]
  },
  {
   "cell_type": "markdown",
   "metadata": {},
   "source": [
    "***LRP***"
   ]
  },
  {
   "cell_type": "code",
   "execution_count": 22,
   "metadata": {},
   "outputs": [],
   "source": [
    "from PIL import Image\n",
    "import numpy as np\n",
    "user_image_path = r'/Users/faizahkureshi/Desktop/Capstone Project/DataSet 2/train/Malignant/20586934 (17).png'\n",
    "img = Image.open(user_image_path)\n",
    "img = img.resize((224, 224))  # Resize to match the model's input size\n",
    "\n",
    "# Convert the image to RGB format if it's grayscale\n",
    "if img.mode != 'RGB':\n",
    "    img = img.convert('RGB')\n",
    "\n",
    "img = np.array(img)  # Convert to NumPy array\n",
    "img = img / 255.0  # Normalize the image\n",
    "og_image=img\n",
    "#print(og_image.shape)\n",
    "    # Add batch dimension to the image\n",
    "img = np.expand_dims(img, axis=0)\n",
    "# img.shape"
   ]
  },
  {
   "cell_type": "code",
   "execution_count": 24,
   "metadata": {},
   "outputs": [
    {
     "name": "stderr",
     "output_type": "stream",
     "text": [
      "WARNING:absl:Compiled the loaded model, but the compiled metrics have yet to be built. `model.compile_metrics` will be empty until you train or evaluate the model.\n"
     ]
    }
   ],
   "source": [
    "from keras.models import load_model,Model\n",
    "\n",
    "import matplotlib.pyplot as plt\n",
    "import numpy as np\n",
    "\n",
    "model=load_model(r\"/Users/faizahkureshi/Desktop/Capstone Project/first_model.h5\")\n",
    "last_conv_layer=model.get_layer('conv2d_2')"
   ]
  },
  {
   "cell_type": "code",
   "execution_count": 25,
   "metadata": {},
   "outputs": [],
   "source": [
    "import torch\n",
    "import torch.nn as nn\n",
    "import torchvision\n",
    "import torchvision.models as models\n",
    "import torchvision.transforms as transforms\n",
    "import numpy as np\n",
    "import matplotlib.pyplot as plt\n",
    "import torch.optim as optim\n",
    "import copy\n",
    "import pandas as pd \n"
   ]
  },
  {
   "cell_type": "code",
   "execution_count": 59,
   "metadata": {},
   "outputs": [],
   "source": [
    "def new_layer(layer, g):\n",
    "    \"\"\"Clone a layer and pass its parameters through the function g.\"\"\"\n",
    "    layer = copy.deepcopy(layer)\n",
    "    try: layer.weight = torch.nn.Parameter(g(layer.weight))\n",
    "    except AttributeError: pass\n",
    "    try: layer.bias = torch.nn.Parameter(g(layer.bias))\n",
    "    except AttributeError: pass\n",
    "    return layer\n",
    "\n",
    "def dense_to_conv(layers):\n",
    "    \"\"\" Converts a dense layer to a conv layer \"\"\"\n",
    "    newlayers = []\n",
    "    for i,layer in enumerate(layers):\n",
    "        if isinstance(layer, nn.Linear):\n",
    "            newlayer = None\n",
    "            if i == 0:\n",
    "                m, n = 512, layer.weight.shape[0]\n",
    "                newlayer = nn.Conv2d(m,n,7)\n",
    "                newlayer.weight = nn.Parameter(layer.weight.reshape(n,m,7,7))\n",
    "            else:\n",
    "                m,n = layer.weight.shape[1],layer.weight.shape[0]\n",
    "                newlayer = nn.Conv2d(m,n,1)\n",
    "                newlayer.weight = nn.Parameter(layer.weight.reshape(n,m,1,1))\n",
    "            newlayer.bias = nn.Parameter(layer.bias)\n",
    "            newlayers += [newlayer]\n",
    "        else:\n",
    "            newlayers += [layer]\n",
    "    return newlayers\n",
    "\n",
    "def get_linear_layer_indices(model):\n",
    "    offset = len(model._modules['features']) + 1\n",
    "    indices = []\n",
    "    for i, layer in enumerate(model._modules['classifier']): \n",
    "        if isinstance(layer, nn.Linear): \n",
    "            indices.append(i)\n",
    "    indices = [offset + val for val in indices]\n",
    "    return indices\n",
    "\n",
    "def apply_lrp_on_model(model, image):\n",
    "    image = torch.unsqueeze(image, 0)\n",
    "    # Extract layers dynamically\n",
    "    layers = model.layers\n",
    "    if hasattr(model, 'classifier'):  # Check if the model has a classifier\n",
    "         linear_layer_indices =get_linear_layer_indices(model)\n",
    "    else:\n",
    "        linear_layer_indices = [i for i, layer in enumerate(layers) if isinstance(layer, torch.nn.Linear)]\n",
    "    \n",
    "    # Propagate image through layers and store activations\n",
    "    n_layers = len(layers)\n",
    "    activations = [image] + [None] * n_layers\n",
    "    \n",
    "    for layer in range(n_layers):\n",
    "        activation = layers[layer](activations[layer])\n",
    "        if isinstance(layers[layer], torch.nn.modules.pooling.AdaptiveAvgPool2d):\n",
    "            activation = torch.flatten(activation, start_dim=1)\n",
    "        activations[layer+1] = activation\n",
    "    \n",
    "    # Replace last layer with one-hot-encoding\n",
    "    output_activation = activations[-1].detach().cpu().numpy()\n",
    "    max_activation = output_activation.max()\n",
    "    one_hot_output = [val if val == max_activation else 0 for val in output_activation[0]]\n",
    "    activations[-1] = torch.FloatTensor([one_hot_output])\n",
    "    \n",
    "    # Backpropagate relevance scores\n",
    "    relevances = [None] * n_layers + [activations[-1]]\n",
    "    for layer in range(n_layers)[::-1]:\n",
    "        current = layers[layer]\n",
    "        if isinstance(current, torch.nn.MaxPool2d):\n",
    "            layers[layer] = torch.nn.AvgPool2d(2)\n",
    "            current = layers[layer]\n",
    "        if isinstance(current, (torch.nn.Conv2d, torch.nn.AvgPool2d, torch.nn.Linear)):\n",
    "            activations[layer] = activations[layer].data.requires_grad_(True)\n",
    "            \n",
    "            if layer <= linear_layer_indices[0]:\n",
    "                rho = lambda p: p + 0.25 * p.clamp(min=0)\n",
    "                incr = lambda z: z + 1e-9\n",
    "            elif linear_layer_indices[0] < layer <= linear_layer_indices[-1]:\n",
    "                rho = lambda p: p\n",
    "                incr = lambda z: z + 1e-9 + 0.25 * ((z**2).mean()**.5).data\n",
    "            else:\n",
    "                rho = lambda p: p\n",
    "                incr = lambda z: z + 1e-9\n",
    "            \n",
    "            z = incr(new_layer(layers[layer],rho).forward(activations[layer]))\n",
    "            #z = incr(new_layer(layers[layer], rho).forward(activations[layer]))\n",
    "            s = (relevances[layer+1] / z).data\n",
    "            (z * s).sum().backward()\n",
    "            c = activations[layer].grad\n",
    "            relevances[layer] = (activations[layer] * c).data\n",
    "        else:\n",
    "            relevances[layer] = relevances[layer+1]\n",
    "    \n",
    "    return relevances[0]\n",
    "\n"
   ]
  },
  {
   "cell_type": "code",
   "execution_count": 68,
   "metadata": {},
   "outputs": [
    {
     "ename": "ValueError",
     "evalue": "Input 0 of layer \"conv2d\" is incompatible with the layer: expected axis -1 of input shape to have value 3, but received input with shape (1, 1, 224, 224)",
     "output_type": "error",
     "traceback": [
      "\u001b[0;31m---------------------------------------------------------------------------\u001b[0m",
      "\u001b[0;31mValueError\u001b[0m                                Traceback (most recent call last)",
      "Cell \u001b[0;32mIn[68], line 8\u001b[0m\n\u001b[1;32m      6\u001b[0m \u001b[38;5;66;03m# Apply transformations to the image\u001b[39;00m\n\u001b[1;32m      7\u001b[0m image_tensor \u001b[38;5;241m=\u001b[39m transform(img)\n\u001b[0;32m----> 8\u001b[0m image_relevances \u001b[38;5;241m=\u001b[39m \u001b[43mapply_lrp_on_model\u001b[49m\u001b[43m(\u001b[49m\u001b[43mmodel\u001b[49m\u001b[43m,\u001b[49m\u001b[43m \u001b[49m\u001b[43mimage_tensor\u001b[49m\u001b[43m)\u001b[49m\n\u001b[1;32m      9\u001b[0m image_relevances \u001b[38;5;241m=\u001b[39m image_relevances\u001b[38;5;241m.\u001b[39mpermute(\u001b[38;5;241m0\u001b[39m,\u001b[38;5;241m2\u001b[39m,\u001b[38;5;241m3\u001b[39m,\u001b[38;5;241m1\u001b[39m)\u001b[38;5;241m.\u001b[39mdetach()\u001b[38;5;241m.\u001b[39mcpu()\u001b[38;5;241m.\u001b[39mnumpy()[\u001b[38;5;241m0\u001b[39m]\n\u001b[1;32m     10\u001b[0m image_relevances \u001b[38;5;241m=\u001b[39m np\u001b[38;5;241m.\u001b[39minterp(image_relevances, (image_relevances\u001b[38;5;241m.\u001b[39mmin(),\n\u001b[1;32m     11\u001b[0m                                                 image_relevances\u001b[38;5;241m.\u001b[39mmax()), \n\u001b[1;32m     12\u001b[0m                                                 (\u001b[38;5;241m0\u001b[39m, \u001b[38;5;241m1\u001b[39m))\n",
      "Cell \u001b[0;32mIn[59], line 53\u001b[0m, in \u001b[0;36mapply_lrp_on_model\u001b[0;34m(model, image)\u001b[0m\n\u001b[1;32m     50\u001b[0m activations \u001b[38;5;241m=\u001b[39m [image] \u001b[38;5;241m+\u001b[39m [\u001b[38;5;28;01mNone\u001b[39;00m] \u001b[38;5;241m*\u001b[39m n_layers\n\u001b[1;32m     52\u001b[0m \u001b[38;5;28;01mfor\u001b[39;00m layer \u001b[38;5;129;01min\u001b[39;00m \u001b[38;5;28mrange\u001b[39m(n_layers):\n\u001b[0;32m---> 53\u001b[0m     activation \u001b[38;5;241m=\u001b[39m \u001b[43mlayers\u001b[49m\u001b[43m[\u001b[49m\u001b[43mlayer\u001b[49m\u001b[43m]\u001b[49m\u001b[43m(\u001b[49m\u001b[43mactivations\u001b[49m\u001b[43m[\u001b[49m\u001b[43mlayer\u001b[49m\u001b[43m]\u001b[49m\u001b[43m)\u001b[49m\n\u001b[1;32m     54\u001b[0m     \u001b[38;5;28;01mif\u001b[39;00m \u001b[38;5;28misinstance\u001b[39m(layers[layer], torch\u001b[38;5;241m.\u001b[39mnn\u001b[38;5;241m.\u001b[39mmodules\u001b[38;5;241m.\u001b[39mpooling\u001b[38;5;241m.\u001b[39mAdaptiveAvgPool2d):\n\u001b[1;32m     55\u001b[0m         activation \u001b[38;5;241m=\u001b[39m torch\u001b[38;5;241m.\u001b[39mflatten(activation, start_dim\u001b[38;5;241m=\u001b[39m\u001b[38;5;241m1\u001b[39m)\n",
      "File \u001b[0;32m~/anaconda3/envs/myenv/lib/python3.9/site-packages/keras/src/utils/traceback_utils.py:123\u001b[0m, in \u001b[0;36mfilter_traceback.<locals>.error_handler\u001b[0;34m(*args, **kwargs)\u001b[0m\n\u001b[1;32m    <a href='file:///Users/faizahkureshi/anaconda3/envs/myenv/lib/python3.9/site-packages/keras/src/utils/traceback_utils.py?line=119'>120</a>\u001b[0m     filtered_tb \u001b[39m=\u001b[39m _process_traceback_frames(e\u001b[39m.\u001b[39m__traceback__)\n\u001b[1;32m    <a href='file:///Users/faizahkureshi/anaconda3/envs/myenv/lib/python3.9/site-packages/keras/src/utils/traceback_utils.py?line=120'>121</a>\u001b[0m     \u001b[39m# To get the full stack trace, call:\u001b[39;00m\n\u001b[1;32m    <a href='file:///Users/faizahkureshi/anaconda3/envs/myenv/lib/python3.9/site-packages/keras/src/utils/traceback_utils.py?line=121'>122</a>\u001b[0m     \u001b[39m# `keras.config.disable_traceback_filtering()`\u001b[39;00m\n\u001b[0;32m--> <a href='file:///Users/faizahkureshi/anaconda3/envs/myenv/lib/python3.9/site-packages/keras/src/utils/traceback_utils.py?line=122'>123</a>\u001b[0m     \u001b[39mraise\u001b[39;00m e\u001b[39m.\u001b[39mwith_traceback(filtered_tb) \u001b[39mfrom\u001b[39;00m \u001b[39mNone\u001b[39;00m\n\u001b[1;32m    <a href='file:///Users/faizahkureshi/anaconda3/envs/myenv/lib/python3.9/site-packages/keras/src/utils/traceback_utils.py?line=123'>124</a>\u001b[0m \u001b[39mfinally\u001b[39;00m:\n\u001b[1;32m    <a href='file:///Users/faizahkureshi/anaconda3/envs/myenv/lib/python3.9/site-packages/keras/src/utils/traceback_utils.py?line=124'>125</a>\u001b[0m     \u001b[39mdel\u001b[39;00m filtered_tb\n",
      "File \u001b[0;32m~/anaconda3/envs/myenv/lib/python3.9/site-packages/keras/src/layers/input_spec.py:227\u001b[0m, in \u001b[0;36massert_input_compatibility\u001b[0;34m(input_spec, inputs, layer_name)\u001b[0m\n\u001b[1;32m    <a href='file:///Users/faizahkureshi/anaconda3/envs/myenv/lib/python3.9/site-packages/keras/src/layers/input_spec.py?line=221'>222</a>\u001b[0m     \u001b[39mfor\u001b[39;00m axis, value \u001b[39min\u001b[39;00m spec\u001b[39m.\u001b[39maxes\u001b[39m.\u001b[39mitems():\n\u001b[1;32m    <a href='file:///Users/faizahkureshi/anaconda3/envs/myenv/lib/python3.9/site-packages/keras/src/layers/input_spec.py?line=222'>223</a>\u001b[0m         \u001b[39mif\u001b[39;00m value \u001b[39mis\u001b[39;00m \u001b[39mnot\u001b[39;00m \u001b[39mNone\u001b[39;00m \u001b[39mand\u001b[39;00m shape[axis] \u001b[39mnot\u001b[39;00m \u001b[39min\u001b[39;00m {\n\u001b[1;32m    <a href='file:///Users/faizahkureshi/anaconda3/envs/myenv/lib/python3.9/site-packages/keras/src/layers/input_spec.py?line=223'>224</a>\u001b[0m             value,\n\u001b[1;32m    <a href='file:///Users/faizahkureshi/anaconda3/envs/myenv/lib/python3.9/site-packages/keras/src/layers/input_spec.py?line=224'>225</a>\u001b[0m             \u001b[39mNone\u001b[39;00m,\n\u001b[1;32m    <a href='file:///Users/faizahkureshi/anaconda3/envs/myenv/lib/python3.9/site-packages/keras/src/layers/input_spec.py?line=225'>226</a>\u001b[0m         }:\n\u001b[0;32m--> <a href='file:///Users/faizahkureshi/anaconda3/envs/myenv/lib/python3.9/site-packages/keras/src/layers/input_spec.py?line=226'>227</a>\u001b[0m             \u001b[39mraise\u001b[39;00m \u001b[39mValueError\u001b[39;00m(\n\u001b[1;32m    <a href='file:///Users/faizahkureshi/anaconda3/envs/myenv/lib/python3.9/site-packages/keras/src/layers/input_spec.py?line=227'>228</a>\u001b[0m                 \u001b[39mf\u001b[39m\u001b[39m'\u001b[39m\u001b[39mInput \u001b[39m\u001b[39m{\u001b[39;00minput_index\u001b[39m}\u001b[39;00m\u001b[39m of layer \u001b[39m\u001b[39m\"\u001b[39m\u001b[39m{\u001b[39;00mlayer_name\u001b[39m}\u001b[39;00m\u001b[39m\"\u001b[39m\u001b[39m is \u001b[39m\u001b[39m'\u001b[39m\n\u001b[1;32m    <a href='file:///Users/faizahkureshi/anaconda3/envs/myenv/lib/python3.9/site-packages/keras/src/layers/input_spec.py?line=228'>229</a>\u001b[0m                 \u001b[39mf\u001b[39m\u001b[39m\"\u001b[39m\u001b[39mincompatible with the layer: expected axis \u001b[39m\u001b[39m{\u001b[39;00maxis\u001b[39m}\u001b[39;00m\u001b[39m \u001b[39m\u001b[39m\"\u001b[39m\n\u001b[1;32m    <a href='file:///Users/faizahkureshi/anaconda3/envs/myenv/lib/python3.9/site-packages/keras/src/layers/input_spec.py?line=229'>230</a>\u001b[0m                 \u001b[39mf\u001b[39m\u001b[39m\"\u001b[39m\u001b[39mof input shape to have value \u001b[39m\u001b[39m{\u001b[39;00mvalue\u001b[39m}\u001b[39;00m\u001b[39m, \u001b[39m\u001b[39m\"\u001b[39m\n\u001b[1;32m    <a href='file:///Users/faizahkureshi/anaconda3/envs/myenv/lib/python3.9/site-packages/keras/src/layers/input_spec.py?line=230'>231</a>\u001b[0m                 \u001b[39m\"\u001b[39m\u001b[39mbut received input with \u001b[39m\u001b[39m\"\u001b[39m\n\u001b[1;32m    <a href='file:///Users/faizahkureshi/anaconda3/envs/myenv/lib/python3.9/site-packages/keras/src/layers/input_spec.py?line=231'>232</a>\u001b[0m                 \u001b[39mf\u001b[39m\u001b[39m\"\u001b[39m\u001b[39mshape \u001b[39m\u001b[39m{\u001b[39;00mshape\u001b[39m}\u001b[39;00m\u001b[39m\"\u001b[39m\n\u001b[1;32m    <a href='file:///Users/faizahkureshi/anaconda3/envs/myenv/lib/python3.9/site-packages/keras/src/layers/input_spec.py?line=232'>233</a>\u001b[0m             )\n\u001b[1;32m    <a href='file:///Users/faizahkureshi/anaconda3/envs/myenv/lib/python3.9/site-packages/keras/src/layers/input_spec.py?line=233'>234</a>\u001b[0m \u001b[39m# Check shape.\u001b[39;00m\n\u001b[1;32m    <a href='file:///Users/faizahkureshi/anaconda3/envs/myenv/lib/python3.9/site-packages/keras/src/layers/input_spec.py?line=234'>235</a>\u001b[0m \u001b[39mif\u001b[39;00m spec\u001b[39m.\u001b[39mshape \u001b[39mis\u001b[39;00m \u001b[39mnot\u001b[39;00m \u001b[39mNone\u001b[39;00m:\n",
      "\u001b[0;31mValueError\u001b[0m: Input 0 of layer \"conv2d\" is incompatible with the layer: expected axis -1 of input shape to have value 3, but received input with shape (1, 1, 224, 224)"
     ]
    }
   ],
   "source": [
    "image = '/Users/faizahkureshi/Desktop/Capstone Project/DataSet 2/test/Malignant/20586934 (10).png'\n",
    "img = Image.open(image)\n",
    "# Define transformations to apply to the image\n",
    "\n",
    "transform = transforms.ToTensor()\n",
    "# Apply transformations to the image\n",
    "image_tensor = transform(img)\n",
    "image_relevances = apply_lrp_on_model(model, image_tensor)\n",
    "image_relevances = image_relevances.permute(0,2,3,1).detach().cpu().numpy()[0]\n",
    "image_relevances = np.interp(image_relevances, (image_relevances.min(),\n",
    "                                                image_relevances.max()), \n",
    "                                                (0, 1))\n",
    "# Show relevances\n",
    "# pred_label = list(test.class_to_idx.keys())[\n",
    "#              list(test.class_to_idx.values())\n",
    "#             .index(labels[image_id])]\n",
    "def get_idx(pred):\n",
    "    threshold=0.5\n",
    "    return 1 if pred>threshold else 0\n",
    "\n",
    "result=get_idx(model.predict(image)[1])\n",
    "if result == 1:\n",
    "    print(\"Groundtruth for this image: \", result)\n",
    "\n",
    "    # Plot images next to each other\n",
    "    plt.axis('off')\n",
    "    plt.subplot(1,2,1)\n",
    "    plt.imshow(image_relevances[:,:,0], cmap=\"seismic\")\n",
    "    plt.show()\n",
    "else:\n",
    "    print(\"This image is not classified correctly.\")"
   ]
  },
  {
   "cell_type": "markdown",
   "metadata": {},
   "source": [
    "***NEW LRP***"
   ]
  },
  {
   "cell_type": "code",
   "execution_count": 76,
   "metadata": {},
   "outputs": [],
   "source": [
    "import torch\n",
    "import copy\n",
    "\n",
    "def new_layer(layer, g):\n",
    "    \"\"\"Clone a layer and pass its parameters through the function g.\"\"\"\n",
    "    layer = copy.deepcopy(layer)\n",
    "    try:\n",
    "        if hasattr(layer, 'weight'):\n",
    "            layer.weight = torch.nn.Parameter(g(layer.weight))\n",
    "        if hasattr(layer, 'bias'):\n",
    "            layer.bias = torch.nn.Parameter(g(layer.bias))\n",
    "    except AttributeError:\n",
    "        pass\n",
    "    return layer\n",
    "\n",
    "def apply_lrp_on_model(model, image):\n",
    "    # Add batch dimension to the image\n",
    "    image_tensor = torch.unsqueeze(image, 0)\n",
    "\n",
    "    # Extract layers dynamically\n",
    "    layers = model.layers if hasattr(model, 'layers') else list(model.children())\n",
    "    \n",
    "    # Assuming linear layers are at the end\n",
    "    linear_layer_indices = [i for i, layer in enumerate(layers) if isinstance(layer, torch.nn.Linear)]\n",
    "    \n",
    "    # Propagate image through layers and store activations\n",
    "    n_layers = len(layers)\n",
    "    activations = [image_tensor] + [None] * n_layers\n",
    "    \n",
    "    for layer in range(n_layers):\n",
    "        activation = layers[layer](activations[layer])\n",
    "        if isinstance(layers[layer], torch.nn.modules.pooling.AdaptiveAvgPool2d):\n",
    "            activation = torch.flatten(activation, start_dim=1)\n",
    "        activations[layer+1] = activation\n",
    "    \n",
    "    # Replace last layer with one-hot-encoding\n",
    "    output_activation = activations[-1].detach().cpu().numpy()\n",
    "    max_activation = output_activation.max()\n",
    "    one_hot_output = [val if val == max_activation else 0 for val in output_activation[0]]\n",
    "    activations[-1] = torch.FloatTensor([one_hot_output])\n",
    "    \n",
    "    # Backpropagate relevance scores\n",
    "    relevances = [None] * n_layers + [activations[-1]]\n",
    "    for layer in range(n_layers)[::-1]:\n",
    "        current = layers[layer]\n",
    "        if isinstance(current, torch.nn.MaxPool2d):\n",
    "            layers[layer] = torch.nn.AvgPool2d(2)\n",
    "            current = layers[layer]\n",
    "        if isinstance(current, (torch.nn.Conv2d, torch.nn.AvgPool2d, torch.nn.Linear)):\n",
    "            activations[layer] = activations[layer].data.requires_grad_(True)\n",
    "            \n",
    "            if layer <= linear_layer_indices[0]:\n",
    "                rho = lambda p: p + 0.25 * p.clamp(min=0)\n",
    "                incr = lambda z: z + 1e-9\n",
    "            elif linear_layer_indices[0] < layer <= linear_layer_indices[-1]:\n",
    "                rho = lambda p: p\n",
    "                incr = lambda z: z + 1e-9 + 0.25 * ((z**2).mean()**.5).data\n",
    "            else:\n",
    "                rho = lambda p: p\n",
    "                incr = lambda z: z + 1e-9\n",
    "            \n",
    "            z = incr(new_layer(layers[layer],rho).forward(activations[layer]))\n",
    "            s = (relevances[layer+1] / z).data\n",
    "            (z * s).sum().backward()\n",
    "            c = activations[layer].grad\n",
    "            relevances[layer] = (activations[layer] * c).data\n",
    "        else:\n",
    "            relevances[layer] = relevances[layer+1]\n",
    "    \n",
    "    return relevances[0]\n"
   ]
  },
  {
   "cell_type": "code",
   "execution_count": 70,
   "metadata": {},
   "outputs": [],
   "source": [
    "import matplotlib.pyplot as plt\n",
    "\n",
    "# Define a function to visualize the relevances\n",
    "def visualize_relevances(relevances, image):\n",
    "    # Normalize relevances\n",
    "    relevances = torch.abs(relevances).sum(dim=1, keepdim=True)\n",
    "    relevances /= relevances.max()\n",
    "\n",
    "    # Convert relevances to numpy array\n",
    "    relevances = relevances.squeeze().detach().cpu().numpy()\n",
    "\n",
    "    # Plot the original image\n",
    "    plt.subplot(1, 2, 1)\n",
    "    plt.imshow(np.transpose(image.squeeze().detach().cpu().numpy(), (1, 2, 0)))\n",
    "    plt.title('Original Image')\n",
    "    plt.axis('off')\n",
    "\n",
    "    # Plot the relevances\n",
    "    plt.subplot(1, 2, 2)\n",
    "    plt.imshow(relevances, cmap='hot')\n",
    "    plt.title('Relevances')\n",
    "    plt.axis('off')\n",
    "\n",
    "    plt.show()\n",
    "\n",
    "# Call the visualize_relevances function\n",
    "\n"
   ]
  },
  {
   "cell_type": "code",
   "execution_count": 90,
   "metadata": {},
   "outputs": [
    {
     "ename": "ValueError",
     "evalue": "Input 0 of layer \"conv2d_9\" is incompatible with the layer: expected axis -1 of input shape to have value 3, but received input with shape (1, 1, 224, 224, 1)",
     "output_type": "error",
     "traceback": [
      "\u001b[0;31m---------------------------------------------------------------------------\u001b[0m",
      "\u001b[0;31mValueError\u001b[0m                                Traceback (most recent call last)",
      "Cell \u001b[0;32mIn[90], line 15\u001b[0m\n\u001b[1;32m     12\u001b[0m image_tensor \u001b[38;5;241m=\u001b[39m image_tensor\u001b[38;5;241m.\u001b[39mpermute(\u001b[38;5;241m0\u001b[39m, \u001b[38;5;241m2\u001b[39m, \u001b[38;5;241m3\u001b[39m, \u001b[38;5;241m1\u001b[39m)\n\u001b[1;32m     14\u001b[0m \u001b[38;5;66;03m# Call the LRP function\u001b[39;00m\n\u001b[0;32m---> 15\u001b[0m relevances \u001b[38;5;241m=\u001b[39m \u001b[43mapply_lrp_on_model\u001b[49m\u001b[43m(\u001b[49m\u001b[43mmodel\u001b[49m\u001b[43m,\u001b[49m\u001b[43m \u001b[49m\u001b[43mimage_tensor\u001b[49m\u001b[43m)\u001b[49m\n",
      "Cell \u001b[0;32mIn[76], line 31\u001b[0m, in \u001b[0;36mapply_lrp_on_model\u001b[0;34m(model, image)\u001b[0m\n\u001b[1;32m     28\u001b[0m activations \u001b[38;5;241m=\u001b[39m [image_tensor] \u001b[38;5;241m+\u001b[39m [\u001b[38;5;28;01mNone\u001b[39;00m] \u001b[38;5;241m*\u001b[39m n_layers\n\u001b[1;32m     30\u001b[0m \u001b[38;5;28;01mfor\u001b[39;00m layer \u001b[38;5;129;01min\u001b[39;00m \u001b[38;5;28mrange\u001b[39m(n_layers):\n\u001b[0;32m---> 31\u001b[0m     activation \u001b[38;5;241m=\u001b[39m \u001b[43mlayers\u001b[49m\u001b[43m[\u001b[49m\u001b[43mlayer\u001b[49m\u001b[43m]\u001b[49m\u001b[43m(\u001b[49m\u001b[43mactivations\u001b[49m\u001b[43m[\u001b[49m\u001b[43mlayer\u001b[49m\u001b[43m]\u001b[49m\u001b[43m)\u001b[49m\n\u001b[1;32m     32\u001b[0m     \u001b[38;5;28;01mif\u001b[39;00m \u001b[38;5;28misinstance\u001b[39m(layers[layer], torch\u001b[38;5;241m.\u001b[39mnn\u001b[38;5;241m.\u001b[39mmodules\u001b[38;5;241m.\u001b[39mpooling\u001b[38;5;241m.\u001b[39mAdaptiveAvgPool2d):\n\u001b[1;32m     33\u001b[0m         activation \u001b[38;5;241m=\u001b[39m torch\u001b[38;5;241m.\u001b[39mflatten(activation, start_dim\u001b[38;5;241m=\u001b[39m\u001b[38;5;241m1\u001b[39m)\n",
      "File \u001b[0;32m~/anaconda3/envs/myenv/lib/python3.9/site-packages/keras/src/utils/traceback_utils.py:123\u001b[0m, in \u001b[0;36mfilter_traceback.<locals>.error_handler\u001b[0;34m(*args, **kwargs)\u001b[0m\n\u001b[1;32m    <a href='file:///Users/faizahkureshi/anaconda3/envs/myenv/lib/python3.9/site-packages/keras/src/utils/traceback_utils.py?line=119'>120</a>\u001b[0m     filtered_tb \u001b[39m=\u001b[39m _process_traceback_frames(e\u001b[39m.\u001b[39m__traceback__)\n\u001b[1;32m    <a href='file:///Users/faizahkureshi/anaconda3/envs/myenv/lib/python3.9/site-packages/keras/src/utils/traceback_utils.py?line=120'>121</a>\u001b[0m     \u001b[39m# To get the full stack trace, call:\u001b[39;00m\n\u001b[1;32m    <a href='file:///Users/faizahkureshi/anaconda3/envs/myenv/lib/python3.9/site-packages/keras/src/utils/traceback_utils.py?line=121'>122</a>\u001b[0m     \u001b[39m# `keras.config.disable_traceback_filtering()`\u001b[39;00m\n\u001b[0;32m--> <a href='file:///Users/faizahkureshi/anaconda3/envs/myenv/lib/python3.9/site-packages/keras/src/utils/traceback_utils.py?line=122'>123</a>\u001b[0m     \u001b[39mraise\u001b[39;00m e\u001b[39m.\u001b[39mwith_traceback(filtered_tb) \u001b[39mfrom\u001b[39;00m \u001b[39mNone\u001b[39;00m\n\u001b[1;32m    <a href='file:///Users/faizahkureshi/anaconda3/envs/myenv/lib/python3.9/site-packages/keras/src/utils/traceback_utils.py?line=123'>124</a>\u001b[0m \u001b[39mfinally\u001b[39;00m:\n\u001b[1;32m    <a href='file:///Users/faizahkureshi/anaconda3/envs/myenv/lib/python3.9/site-packages/keras/src/utils/traceback_utils.py?line=124'>125</a>\u001b[0m     \u001b[39mdel\u001b[39;00m filtered_tb\n",
      "File \u001b[0;32m~/anaconda3/envs/myenv/lib/python3.9/site-packages/keras/src/layers/input_spec.py:227\u001b[0m, in \u001b[0;36massert_input_compatibility\u001b[0;34m(input_spec, inputs, layer_name)\u001b[0m\n\u001b[1;32m    <a href='file:///Users/faizahkureshi/anaconda3/envs/myenv/lib/python3.9/site-packages/keras/src/layers/input_spec.py?line=221'>222</a>\u001b[0m     \u001b[39mfor\u001b[39;00m axis, value \u001b[39min\u001b[39;00m spec\u001b[39m.\u001b[39maxes\u001b[39m.\u001b[39mitems():\n\u001b[1;32m    <a href='file:///Users/faizahkureshi/anaconda3/envs/myenv/lib/python3.9/site-packages/keras/src/layers/input_spec.py?line=222'>223</a>\u001b[0m         \u001b[39mif\u001b[39;00m value \u001b[39mis\u001b[39;00m \u001b[39mnot\u001b[39;00m \u001b[39mNone\u001b[39;00m \u001b[39mand\u001b[39;00m shape[axis] \u001b[39mnot\u001b[39;00m \u001b[39min\u001b[39;00m {\n\u001b[1;32m    <a href='file:///Users/faizahkureshi/anaconda3/envs/myenv/lib/python3.9/site-packages/keras/src/layers/input_spec.py?line=223'>224</a>\u001b[0m             value,\n\u001b[1;32m    <a href='file:///Users/faizahkureshi/anaconda3/envs/myenv/lib/python3.9/site-packages/keras/src/layers/input_spec.py?line=224'>225</a>\u001b[0m             \u001b[39mNone\u001b[39;00m,\n\u001b[1;32m    <a href='file:///Users/faizahkureshi/anaconda3/envs/myenv/lib/python3.9/site-packages/keras/src/layers/input_spec.py?line=225'>226</a>\u001b[0m         }:\n\u001b[0;32m--> <a href='file:///Users/faizahkureshi/anaconda3/envs/myenv/lib/python3.9/site-packages/keras/src/layers/input_spec.py?line=226'>227</a>\u001b[0m             \u001b[39mraise\u001b[39;00m \u001b[39mValueError\u001b[39;00m(\n\u001b[1;32m    <a href='file:///Users/faizahkureshi/anaconda3/envs/myenv/lib/python3.9/site-packages/keras/src/layers/input_spec.py?line=227'>228</a>\u001b[0m                 \u001b[39mf\u001b[39m\u001b[39m'\u001b[39m\u001b[39mInput \u001b[39m\u001b[39m{\u001b[39;00minput_index\u001b[39m}\u001b[39;00m\u001b[39m of layer \u001b[39m\u001b[39m\"\u001b[39m\u001b[39m{\u001b[39;00mlayer_name\u001b[39m}\u001b[39;00m\u001b[39m\"\u001b[39m\u001b[39m is \u001b[39m\u001b[39m'\u001b[39m\n\u001b[1;32m    <a href='file:///Users/faizahkureshi/anaconda3/envs/myenv/lib/python3.9/site-packages/keras/src/layers/input_spec.py?line=228'>229</a>\u001b[0m                 \u001b[39mf\u001b[39m\u001b[39m\"\u001b[39m\u001b[39mincompatible with the layer: expected axis \u001b[39m\u001b[39m{\u001b[39;00maxis\u001b[39m}\u001b[39;00m\u001b[39m \u001b[39m\u001b[39m\"\u001b[39m\n\u001b[1;32m    <a href='file:///Users/faizahkureshi/anaconda3/envs/myenv/lib/python3.9/site-packages/keras/src/layers/input_spec.py?line=229'>230</a>\u001b[0m                 \u001b[39mf\u001b[39m\u001b[39m\"\u001b[39m\u001b[39mof input shape to have value \u001b[39m\u001b[39m{\u001b[39;00mvalue\u001b[39m}\u001b[39;00m\u001b[39m, \u001b[39m\u001b[39m\"\u001b[39m\n\u001b[1;32m    <a href='file:///Users/faizahkureshi/anaconda3/envs/myenv/lib/python3.9/site-packages/keras/src/layers/input_spec.py?line=230'>231</a>\u001b[0m                 \u001b[39m\"\u001b[39m\u001b[39mbut received input with \u001b[39m\u001b[39m\"\u001b[39m\n\u001b[1;32m    <a href='file:///Users/faizahkureshi/anaconda3/envs/myenv/lib/python3.9/site-packages/keras/src/layers/input_spec.py?line=231'>232</a>\u001b[0m                 \u001b[39mf\u001b[39m\u001b[39m\"\u001b[39m\u001b[39mshape \u001b[39m\u001b[39m{\u001b[39;00mshape\u001b[39m}\u001b[39;00m\u001b[39m\"\u001b[39m\n\u001b[1;32m    <a href='file:///Users/faizahkureshi/anaconda3/envs/myenv/lib/python3.9/site-packages/keras/src/layers/input_spec.py?line=232'>233</a>\u001b[0m             )\n\u001b[1;32m    <a href='file:///Users/faizahkureshi/anaconda3/envs/myenv/lib/python3.9/site-packages/keras/src/layers/input_spec.py?line=233'>234</a>\u001b[0m \u001b[39m# Check shape.\u001b[39;00m\n\u001b[1;32m    <a href='file:///Users/faizahkureshi/anaconda3/envs/myenv/lib/python3.9/site-packages/keras/src/layers/input_spec.py?line=234'>235</a>\u001b[0m \u001b[39mif\u001b[39;00m spec\u001b[39m.\u001b[39mshape \u001b[39mis\u001b[39;00m \u001b[39mnot\u001b[39;00m \u001b[39mNone\u001b[39;00m:\n",
      "\u001b[0;31mValueError\u001b[0m: Input 0 of layer \"conv2d_9\" is incompatible with the layer: expected axis -1 of input shape to have value 3, but received input with shape (1, 1, 224, 224, 1)"
     ]
    }
   ],
   "source": [
    "image_path ='/Users/faizahkureshi/Desktop/Capstone Project/DataSet 2/test/Malignant/20586934 (10).png'\n",
    "\n",
    "img = Image.open(image_path)\n",
    "transform = transforms.Compose([\n",
    "    transforms.Resize((224, 224)),  # Resize the image\n",
    "    transforms.ToTensor()            # Convert the image to a tensor\n",
    "])\n",
    "image_tensor = transform(img)\n",
    "\n",
    "image_tensor = torch.unsqueeze(image_tensor, 0)\n",
    "# Permute dimensions to (batch_size, height, width, channels)\n",
    "image_tensor = image_tensor.permute(0, 2, 3, 1)\n",
    "\n",
    "\n",
    "relevances = apply_lrp_on_model(model, image_tensor)\n",
    "\n",
    "\n"
   ]
  },
  {
   "cell_type": "code",
   "execution_count": null,
   "metadata": {},
   "outputs": [],
   "source": [
    "visualize_relevances(relevances, image_tensor)\n"
   ]
  }
 ],
 "metadata": {
  "interpreter": {
   "hash": "9ecbe64a6d9bb256066cac82553e9f962664e0a1f17db54f216b083f10eb1666"
  },
  "kernelspec": {
   "display_name": "Python 3.9.18 ('myenv')",
   "language": "python",
   "name": "python3"
  },
  "language_info": {
   "codemirror_mode": {
    "name": "ipython",
    "version": 3
   },
   "file_extension": ".py",
   "mimetype": "text/x-python",
   "name": "python",
   "nbconvert_exporter": "python",
   "pygments_lexer": "ipython3",
   "version": "3.9.18"
  },
  "orig_nbformat": 4
 },
 "nbformat": 4,
 "nbformat_minor": 2
}
